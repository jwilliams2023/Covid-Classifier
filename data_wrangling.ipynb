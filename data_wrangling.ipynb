{
 "cells": [
  {
   "cell_type": "markdown",
   "source": [
    "## Data Wrangling"
   ],
   "metadata": {
    "collapsed": false
   },
   "id": "96b66613a027cfb1"
  },
  {
   "cell_type": "code",
   "execution_count": 55,
   "id": "initial_id",
   "metadata": {
    "collapsed": true,
    "ExecuteTime": {
     "end_time": "2024-11-02T20:03:48.715865Z",
     "start_time": "2024-11-02T20:03:47.857448Z"
    }
   },
   "outputs": [
    {
     "data": {
      "text/plain": "   USMER  MEDICAL_UNIT  SEX  PATIENT_TYPE   DATE_DIED  INTUBED  PNEUMONIA  \\\n0      2             1    1             1  03/05/2020       97          1   \n1      2             1    2             1  03/06/2020       97          1   \n2      2             1    2             2  09/06/2020        1          2   \n3      2             1    1             1  12/06/2020       97          2   \n4      2             1    2             1  21/06/2020       97          2   \n5      2             1    1             2  9999-99-99        2          1   \n6      2             1    1             1  9999-99-99       97          2   \n7      2             1    1             1  9999-99-99       97          1   \n8      2             1    1             2  9999-99-99        2          2   \n9      2             1    1             2  9999-99-99        2          2   \n\n   AGE  PREGNANT  DIABETES  ...  ASTHMA  INMSUPR  HIPERTENSION  OTHER_DISEASE  \\\n0   65         2         2  ...       2        2             1              2   \n1   72        97         2  ...       2        2             1              2   \n2   55        97         1  ...       2        2             2              2   \n3   53         2         2  ...       2        2             2              2   \n4   68        97         1  ...       2        2             1              2   \n5   40         2         2  ...       2        2             2              2   \n6   64         2         2  ...       2        2             2              2   \n7   64         2         1  ...       2        1             1              2   \n8   37         2         1  ...       2        2             1              2   \n9   25         2         2  ...       2        2             2              2   \n\n   CARDIOVASCULAR  OBESITY  RENAL_CHRONIC  TOBACCO  CLASIFFICATION_FINAL  ICU  \n0               2        2              2        2                     3   97  \n1               2        1              1        2                     5   97  \n2               2        2              2        2                     3    2  \n3               2        2              2        2                     7   97  \n4               2        2              2        2                     3   97  \n5               2        2              2        2                     3    2  \n6               2        2              2        2                     3   97  \n7               2        2              1        2                     3   97  \n8               2        1              2        2                     3    2  \n9               2        2              2        2                     3    2  \n\n[10 rows x 21 columns]",
      "text/html": "<div>\n<style scoped>\n    .dataframe tbody tr th:only-of-type {\n        vertical-align: middle;\n    }\n\n    .dataframe tbody tr th {\n        vertical-align: top;\n    }\n\n    .dataframe thead th {\n        text-align: right;\n    }\n</style>\n<table border=\"1\" class=\"dataframe\">\n  <thead>\n    <tr style=\"text-align: right;\">\n      <th></th>\n      <th>USMER</th>\n      <th>MEDICAL_UNIT</th>\n      <th>SEX</th>\n      <th>PATIENT_TYPE</th>\n      <th>DATE_DIED</th>\n      <th>INTUBED</th>\n      <th>PNEUMONIA</th>\n      <th>AGE</th>\n      <th>PREGNANT</th>\n      <th>DIABETES</th>\n      <th>...</th>\n      <th>ASTHMA</th>\n      <th>INMSUPR</th>\n      <th>HIPERTENSION</th>\n      <th>OTHER_DISEASE</th>\n      <th>CARDIOVASCULAR</th>\n      <th>OBESITY</th>\n      <th>RENAL_CHRONIC</th>\n      <th>TOBACCO</th>\n      <th>CLASIFFICATION_FINAL</th>\n      <th>ICU</th>\n    </tr>\n  </thead>\n  <tbody>\n    <tr>\n      <th>0</th>\n      <td>2</td>\n      <td>1</td>\n      <td>1</td>\n      <td>1</td>\n      <td>03/05/2020</td>\n      <td>97</td>\n      <td>1</td>\n      <td>65</td>\n      <td>2</td>\n      <td>2</td>\n      <td>...</td>\n      <td>2</td>\n      <td>2</td>\n      <td>1</td>\n      <td>2</td>\n      <td>2</td>\n      <td>2</td>\n      <td>2</td>\n      <td>2</td>\n      <td>3</td>\n      <td>97</td>\n    </tr>\n    <tr>\n      <th>1</th>\n      <td>2</td>\n      <td>1</td>\n      <td>2</td>\n      <td>1</td>\n      <td>03/06/2020</td>\n      <td>97</td>\n      <td>1</td>\n      <td>72</td>\n      <td>97</td>\n      <td>2</td>\n      <td>...</td>\n      <td>2</td>\n      <td>2</td>\n      <td>1</td>\n      <td>2</td>\n      <td>2</td>\n      <td>1</td>\n      <td>1</td>\n      <td>2</td>\n      <td>5</td>\n      <td>97</td>\n    </tr>\n    <tr>\n      <th>2</th>\n      <td>2</td>\n      <td>1</td>\n      <td>2</td>\n      <td>2</td>\n      <td>09/06/2020</td>\n      <td>1</td>\n      <td>2</td>\n      <td>55</td>\n      <td>97</td>\n      <td>1</td>\n      <td>...</td>\n      <td>2</td>\n      <td>2</td>\n      <td>2</td>\n      <td>2</td>\n      <td>2</td>\n      <td>2</td>\n      <td>2</td>\n      <td>2</td>\n      <td>3</td>\n      <td>2</td>\n    </tr>\n    <tr>\n      <th>3</th>\n      <td>2</td>\n      <td>1</td>\n      <td>1</td>\n      <td>1</td>\n      <td>12/06/2020</td>\n      <td>97</td>\n      <td>2</td>\n      <td>53</td>\n      <td>2</td>\n      <td>2</td>\n      <td>...</td>\n      <td>2</td>\n      <td>2</td>\n      <td>2</td>\n      <td>2</td>\n      <td>2</td>\n      <td>2</td>\n      <td>2</td>\n      <td>2</td>\n      <td>7</td>\n      <td>97</td>\n    </tr>\n    <tr>\n      <th>4</th>\n      <td>2</td>\n      <td>1</td>\n      <td>2</td>\n      <td>1</td>\n      <td>21/06/2020</td>\n      <td>97</td>\n      <td>2</td>\n      <td>68</td>\n      <td>97</td>\n      <td>1</td>\n      <td>...</td>\n      <td>2</td>\n      <td>2</td>\n      <td>1</td>\n      <td>2</td>\n      <td>2</td>\n      <td>2</td>\n      <td>2</td>\n      <td>2</td>\n      <td>3</td>\n      <td>97</td>\n    </tr>\n    <tr>\n      <th>5</th>\n      <td>2</td>\n      <td>1</td>\n      <td>1</td>\n      <td>2</td>\n      <td>9999-99-99</td>\n      <td>2</td>\n      <td>1</td>\n      <td>40</td>\n      <td>2</td>\n      <td>2</td>\n      <td>...</td>\n      <td>2</td>\n      <td>2</td>\n      <td>2</td>\n      <td>2</td>\n      <td>2</td>\n      <td>2</td>\n      <td>2</td>\n      <td>2</td>\n      <td>3</td>\n      <td>2</td>\n    </tr>\n    <tr>\n      <th>6</th>\n      <td>2</td>\n      <td>1</td>\n      <td>1</td>\n      <td>1</td>\n      <td>9999-99-99</td>\n      <td>97</td>\n      <td>2</td>\n      <td>64</td>\n      <td>2</td>\n      <td>2</td>\n      <td>...</td>\n      <td>2</td>\n      <td>2</td>\n      <td>2</td>\n      <td>2</td>\n      <td>2</td>\n      <td>2</td>\n      <td>2</td>\n      <td>2</td>\n      <td>3</td>\n      <td>97</td>\n    </tr>\n    <tr>\n      <th>7</th>\n      <td>2</td>\n      <td>1</td>\n      <td>1</td>\n      <td>1</td>\n      <td>9999-99-99</td>\n      <td>97</td>\n      <td>1</td>\n      <td>64</td>\n      <td>2</td>\n      <td>1</td>\n      <td>...</td>\n      <td>2</td>\n      <td>1</td>\n      <td>1</td>\n      <td>2</td>\n      <td>2</td>\n      <td>2</td>\n      <td>1</td>\n      <td>2</td>\n      <td>3</td>\n      <td>97</td>\n    </tr>\n    <tr>\n      <th>8</th>\n      <td>2</td>\n      <td>1</td>\n      <td>1</td>\n      <td>2</td>\n      <td>9999-99-99</td>\n      <td>2</td>\n      <td>2</td>\n      <td>37</td>\n      <td>2</td>\n      <td>1</td>\n      <td>...</td>\n      <td>2</td>\n      <td>2</td>\n      <td>1</td>\n      <td>2</td>\n      <td>2</td>\n      <td>1</td>\n      <td>2</td>\n      <td>2</td>\n      <td>3</td>\n      <td>2</td>\n    </tr>\n    <tr>\n      <th>9</th>\n      <td>2</td>\n      <td>1</td>\n      <td>1</td>\n      <td>2</td>\n      <td>9999-99-99</td>\n      <td>2</td>\n      <td>2</td>\n      <td>25</td>\n      <td>2</td>\n      <td>2</td>\n      <td>...</td>\n      <td>2</td>\n      <td>2</td>\n      <td>2</td>\n      <td>2</td>\n      <td>2</td>\n      <td>2</td>\n      <td>2</td>\n      <td>2</td>\n      <td>3</td>\n      <td>2</td>\n    </tr>\n  </tbody>\n</table>\n<p>10 rows × 21 columns</p>\n</div>"
     },
     "execution_count": 55,
     "metadata": {},
     "output_type": "execute_result"
    }
   ],
   "source": [
    "import pandas as pd\n",
    "\n",
    "df = pd.read_csv(\"./data/covid_data.csv\")\n",
    "df.head(10)"
   ]
  },
  {
   "cell_type": "markdown",
   "source": [],
   "metadata": {
    "collapsed": false
   },
   "id": "3342800216a40553"
  },
  {
   "cell_type": "markdown",
   "source": [
    "### Drop columns with high rates of missing information"
   ],
   "metadata": {
    "collapsed": false
   },
   "id": "aba19097a94ad235"
  },
  {
   "cell_type": "code",
   "outputs": [],
   "source": [
    "df.drop(columns=['CLASIFFICATION_FINAL', 'PATIENT_TYPE', 'PREGNANT', 'INTUBED', 'ICU', 'MEDICAL_UNIT', 'USMER'], inplace=True)"
   ],
   "metadata": {
    "collapsed": false,
    "ExecuteTime": {
     "end_time": "2024-11-02T20:03:48.771527Z",
     "start_time": "2024-11-02T20:03:48.716872Z"
    }
   },
   "id": "d32e702adc199209",
   "execution_count": 56
  },
  {
   "cell_type": "markdown",
   "source": [
    "### Drop rows that have missing values"
   ],
   "metadata": {
    "collapsed": false
   },
   "id": "c54adc4328803eb9"
  },
  {
   "cell_type": "code",
   "outputs": [
    {
     "data": {
      "text/plain": "1024829"
     },
     "execution_count": 57,
     "metadata": {},
     "output_type": "execute_result"
    }
   ],
   "source": [
    "df = df[~(df == 99).any(axis=1)]\n",
    "df = df[~(df == 98).any(axis=1)]\n",
    "df = df[~(df == 97).any(axis=1)]\n",
    "df.shape[0]"
   ],
   "metadata": {
    "collapsed": false,
    "ExecuteTime": {
     "end_time": "2024-11-02T20:03:49.086744Z",
     "start_time": "2024-11-02T20:03:48.772035Z"
    }
   },
   "id": "db3e001e8eda0330",
   "execution_count": 57
  },
  {
   "cell_type": "markdown",
   "source": [
    "### Convert binary columns values to 0 and 1"
   ],
   "metadata": {
    "collapsed": false
   },
   "id": "e4b3df894654ec34"
  },
  {
   "cell_type": "code",
   "outputs": [],
   "source": [
    "df['SEX'] = df['SEX'].replace({1: 0, 2: 1})\n",
    "df['PNEUMONIA'] = df['PNEUMONIA'].replace({1: 0, 2: 1})\n",
    "df['DIABETES'] = df['DIABETES'].replace({1: 0, 2: 1})\n",
    "df['COPD'] = df['COPD'].replace({1: 0, 2: 1})\n",
    "df['ASTHMA'] = df['ASTHMA'].replace({1: 0, 2: 1})\n",
    "df['INMSUPR'] = df['INMSUPR'].replace({1: 0, 2: 1})\n",
    "df['HIPERTENSION'] = df['HIPERTENSION'].replace({1: 0, 2: 1})\n",
    "df['OTHER_DISEASE'] = df['OTHER_DISEASE'].replace({1: 0, 2: 1})\n",
    "df['CARDIOVASCULAR'] = df['CARDIOVASCULAR'].replace({1: 0, 2: 1})\n",
    "df['OBESITY'] = df['OBESITY'].replace({1: 0, 2: 1})\n",
    "df['TOBACCO'] = df['TOBACCO'].replace({1: 0, 2: 1})\n",
    "df['RENAL_CHRONIC'] = df['RENAL_CHRONIC'].replace({1: 0, 2: 1})"
   ],
   "metadata": {
    "collapsed": false,
    "ExecuteTime": {
     "end_time": "2024-11-02T20:03:49.266187Z",
     "start_time": "2024-11-02T20:03:49.087748Z"
    }
   },
   "id": "3347241478a07bde",
   "execution_count": 58
  },
  {
   "cell_type": "markdown",
   "source": [
    "### Convert death date column to column representing whether the patient died or not"
   ],
   "metadata": {
    "collapsed": false
   },
   "id": "bc9b22672cd07997"
  },
  {
   "cell_type": "code",
   "outputs": [],
   "source": [
    "def convert_death(x):\n",
    "    if x == \"9999-99-99\":\n",
    "        return 0\n",
    "    else: \n",
    "        return 1\n",
    "    \n",
    "df['DATE_DIED'] = df['DATE_DIED'].apply(convert_death)\n",
    "df = df.rename(columns={'DATE_DIED': 'DIED'})"
   ],
   "metadata": {
    "collapsed": false,
    "ExecuteTime": {
     "end_time": "2024-11-02T20:03:49.569295Z",
     "start_time": "2024-11-02T20:03:49.266690Z"
    }
   },
   "id": "55ec5a811fa7dcec",
   "execution_count": 59
  },
  {
   "cell_type": "markdown",
   "source": [
    "### Standardize the Age column"
   ],
   "metadata": {
    "collapsed": false
   },
   "id": "cea59aa107503ece"
  },
  {
   "cell_type": "code",
   "outputs": [
    {
     "data": {
      "text/plain": "0          0.537190\n1          0.595041\n2          0.454545\n3          0.438017\n4          0.561983\n             ...   \n1048570    0.330579\n1048571    0.421488\n1048572    0.454545\n1048573    0.231405\n1048574    0.429752\nName: AGE, Length: 1024829, dtype: float64"
     },
     "execution_count": 60,
     "metadata": {},
     "output_type": "execute_result"
    }
   ],
   "source": [
    "df['AGE'] = (df['AGE'] - df['AGE'].min()) / (df['AGE'].max() - df['AGE'].min())\n",
    "df['AGE']"
   ],
   "metadata": {
    "collapsed": false,
    "ExecuteTime": {
     "end_time": "2024-11-02T20:03:49.593618Z",
     "start_time": "2024-11-02T20:03:49.573892Z"
    }
   },
   "id": "cbc73917de713fed",
   "execution_count": 60
  },
  {
   "cell_type": "code",
   "outputs": [
    {
     "data": {
      "text/plain": "    SEX  DIED  PNEUMONIA       AGE  DIABETES  COPD  ASTHMA  INMSUPR  \\\n0     0     1          0  0.537190         1     1       1        1   \n1     1     1          0  0.595041         1     1       1        1   \n2     1     1          1  0.454545         0     1       1        1   \n3     0     1          1  0.438017         1     1       1        1   \n4     1     1          1  0.561983         0     1       1        1   \n5     0     0          0  0.330579         1     1       1        1   \n6     0     0          1  0.528926         1     1       1        1   \n7     0     0          0  0.528926         0     1       1        0   \n8     0     0          1  0.305785         0     1       1        1   \n9     0     0          1  0.206612         1     1       1        1   \n10    0     0          1  0.314050         1     1       1        1   \n11    1     0          1  0.198347         1     1       1        1   \n12    1     0          1  0.247934         1     1       1        1   \n13    1     0          1  0.454545         1     1       1        1   \n14    0     0          1  0.396694         0     1       1        1   \n15    0     0          1  0.190083         1     1       1        1   \n16    0     0          0  0.661157         1     1       1        1   \n17    1     0          1  0.504132         1     1       1        1   \n18    1     0          1  0.446281         1     1       1        1   \n19    0     0          1  0.528926         1     1       1        1   \n\n    HIPERTENSION  OTHER_DISEASE  CARDIOVASCULAR  OBESITY  RENAL_CHRONIC  \\\n0              0              1               1        1              1   \n1              0              1               1        0              0   \n2              1              1               1        1              1   \n3              1              1               1        1              1   \n4              0              1               1        1              1   \n5              1              1               1        1              1   \n6              1              1               1        1              1   \n7              0              1               1        1              0   \n8              0              1               1        0              1   \n9              1              1               1        1              1   \n10             1              1               1        1              1   \n11             1              1               1        1              1   \n12             1              1               1        1              1   \n13             1              1               1        1              1   \n14             1              1               1        1              1   \n15             1              1               1        1              1   \n16             0              1               1        1              1   \n17             1              1               1        1              1   \n18             1              1               1        1              1   \n19             1              1               1        1              1   \n\n    TOBACCO  \n0         1  \n1         1  \n2         1  \n3         1  \n4         1  \n5         1  \n6         1  \n7         1  \n8         1  \n9         1  \n10        1  \n11        1  \n12        1  \n13        1  \n14        1  \n15        1  \n16        1  \n17        1  \n18        1  \n19        1  ",
      "text/html": "<div>\n<style scoped>\n    .dataframe tbody tr th:only-of-type {\n        vertical-align: middle;\n    }\n\n    .dataframe tbody tr th {\n        vertical-align: top;\n    }\n\n    .dataframe thead th {\n        text-align: right;\n    }\n</style>\n<table border=\"1\" class=\"dataframe\">\n  <thead>\n    <tr style=\"text-align: right;\">\n      <th></th>\n      <th>SEX</th>\n      <th>DIED</th>\n      <th>PNEUMONIA</th>\n      <th>AGE</th>\n      <th>DIABETES</th>\n      <th>COPD</th>\n      <th>ASTHMA</th>\n      <th>INMSUPR</th>\n      <th>HIPERTENSION</th>\n      <th>OTHER_DISEASE</th>\n      <th>CARDIOVASCULAR</th>\n      <th>OBESITY</th>\n      <th>RENAL_CHRONIC</th>\n      <th>TOBACCO</th>\n    </tr>\n  </thead>\n  <tbody>\n    <tr>\n      <th>0</th>\n      <td>0</td>\n      <td>1</td>\n      <td>0</td>\n      <td>0.537190</td>\n      <td>1</td>\n      <td>1</td>\n      <td>1</td>\n      <td>1</td>\n      <td>0</td>\n      <td>1</td>\n      <td>1</td>\n      <td>1</td>\n      <td>1</td>\n      <td>1</td>\n    </tr>\n    <tr>\n      <th>1</th>\n      <td>1</td>\n      <td>1</td>\n      <td>0</td>\n      <td>0.595041</td>\n      <td>1</td>\n      <td>1</td>\n      <td>1</td>\n      <td>1</td>\n      <td>0</td>\n      <td>1</td>\n      <td>1</td>\n      <td>0</td>\n      <td>0</td>\n      <td>1</td>\n    </tr>\n    <tr>\n      <th>2</th>\n      <td>1</td>\n      <td>1</td>\n      <td>1</td>\n      <td>0.454545</td>\n      <td>0</td>\n      <td>1</td>\n      <td>1</td>\n      <td>1</td>\n      <td>1</td>\n      <td>1</td>\n      <td>1</td>\n      <td>1</td>\n      <td>1</td>\n      <td>1</td>\n    </tr>\n    <tr>\n      <th>3</th>\n      <td>0</td>\n      <td>1</td>\n      <td>1</td>\n      <td>0.438017</td>\n      <td>1</td>\n      <td>1</td>\n      <td>1</td>\n      <td>1</td>\n      <td>1</td>\n      <td>1</td>\n      <td>1</td>\n      <td>1</td>\n      <td>1</td>\n      <td>1</td>\n    </tr>\n    <tr>\n      <th>4</th>\n      <td>1</td>\n      <td>1</td>\n      <td>1</td>\n      <td>0.561983</td>\n      <td>0</td>\n      <td>1</td>\n      <td>1</td>\n      <td>1</td>\n      <td>0</td>\n      <td>1</td>\n      <td>1</td>\n      <td>1</td>\n      <td>1</td>\n      <td>1</td>\n    </tr>\n    <tr>\n      <th>5</th>\n      <td>0</td>\n      <td>0</td>\n      <td>0</td>\n      <td>0.330579</td>\n      <td>1</td>\n      <td>1</td>\n      <td>1</td>\n      <td>1</td>\n      <td>1</td>\n      <td>1</td>\n      <td>1</td>\n      <td>1</td>\n      <td>1</td>\n      <td>1</td>\n    </tr>\n    <tr>\n      <th>6</th>\n      <td>0</td>\n      <td>0</td>\n      <td>1</td>\n      <td>0.528926</td>\n      <td>1</td>\n      <td>1</td>\n      <td>1</td>\n      <td>1</td>\n      <td>1</td>\n      <td>1</td>\n      <td>1</td>\n      <td>1</td>\n      <td>1</td>\n      <td>1</td>\n    </tr>\n    <tr>\n      <th>7</th>\n      <td>0</td>\n      <td>0</td>\n      <td>0</td>\n      <td>0.528926</td>\n      <td>0</td>\n      <td>1</td>\n      <td>1</td>\n      <td>0</td>\n      <td>0</td>\n      <td>1</td>\n      <td>1</td>\n      <td>1</td>\n      <td>0</td>\n      <td>1</td>\n    </tr>\n    <tr>\n      <th>8</th>\n      <td>0</td>\n      <td>0</td>\n      <td>1</td>\n      <td>0.305785</td>\n      <td>0</td>\n      <td>1</td>\n      <td>1</td>\n      <td>1</td>\n      <td>0</td>\n      <td>1</td>\n      <td>1</td>\n      <td>0</td>\n      <td>1</td>\n      <td>1</td>\n    </tr>\n    <tr>\n      <th>9</th>\n      <td>0</td>\n      <td>0</td>\n      <td>1</td>\n      <td>0.206612</td>\n      <td>1</td>\n      <td>1</td>\n      <td>1</td>\n      <td>1</td>\n      <td>1</td>\n      <td>1</td>\n      <td>1</td>\n      <td>1</td>\n      <td>1</td>\n      <td>1</td>\n    </tr>\n    <tr>\n      <th>10</th>\n      <td>0</td>\n      <td>0</td>\n      <td>1</td>\n      <td>0.314050</td>\n      <td>1</td>\n      <td>1</td>\n      <td>1</td>\n      <td>1</td>\n      <td>1</td>\n      <td>1</td>\n      <td>1</td>\n      <td>1</td>\n      <td>1</td>\n      <td>1</td>\n    </tr>\n    <tr>\n      <th>11</th>\n      <td>1</td>\n      <td>0</td>\n      <td>1</td>\n      <td>0.198347</td>\n      <td>1</td>\n      <td>1</td>\n      <td>1</td>\n      <td>1</td>\n      <td>1</td>\n      <td>1</td>\n      <td>1</td>\n      <td>1</td>\n      <td>1</td>\n      <td>1</td>\n    </tr>\n    <tr>\n      <th>12</th>\n      <td>1</td>\n      <td>0</td>\n      <td>1</td>\n      <td>0.247934</td>\n      <td>1</td>\n      <td>1</td>\n      <td>1</td>\n      <td>1</td>\n      <td>1</td>\n      <td>1</td>\n      <td>1</td>\n      <td>1</td>\n      <td>1</td>\n      <td>1</td>\n    </tr>\n    <tr>\n      <th>13</th>\n      <td>1</td>\n      <td>0</td>\n      <td>1</td>\n      <td>0.454545</td>\n      <td>1</td>\n      <td>1</td>\n      <td>1</td>\n      <td>1</td>\n      <td>1</td>\n      <td>1</td>\n      <td>1</td>\n      <td>1</td>\n      <td>1</td>\n      <td>1</td>\n    </tr>\n    <tr>\n      <th>14</th>\n      <td>0</td>\n      <td>0</td>\n      <td>1</td>\n      <td>0.396694</td>\n      <td>0</td>\n      <td>1</td>\n      <td>1</td>\n      <td>1</td>\n      <td>1</td>\n      <td>1</td>\n      <td>1</td>\n      <td>1</td>\n      <td>1</td>\n      <td>1</td>\n    </tr>\n    <tr>\n      <th>15</th>\n      <td>0</td>\n      <td>0</td>\n      <td>1</td>\n      <td>0.190083</td>\n      <td>1</td>\n      <td>1</td>\n      <td>1</td>\n      <td>1</td>\n      <td>1</td>\n      <td>1</td>\n      <td>1</td>\n      <td>1</td>\n      <td>1</td>\n      <td>1</td>\n    </tr>\n    <tr>\n      <th>16</th>\n      <td>0</td>\n      <td>0</td>\n      <td>0</td>\n      <td>0.661157</td>\n      <td>1</td>\n      <td>1</td>\n      <td>1</td>\n      <td>1</td>\n      <td>0</td>\n      <td>1</td>\n      <td>1</td>\n      <td>1</td>\n      <td>1</td>\n      <td>1</td>\n    </tr>\n    <tr>\n      <th>17</th>\n      <td>1</td>\n      <td>0</td>\n      <td>1</td>\n      <td>0.504132</td>\n      <td>1</td>\n      <td>1</td>\n      <td>1</td>\n      <td>1</td>\n      <td>1</td>\n      <td>1</td>\n      <td>1</td>\n      <td>1</td>\n      <td>1</td>\n      <td>1</td>\n    </tr>\n    <tr>\n      <th>18</th>\n      <td>1</td>\n      <td>0</td>\n      <td>1</td>\n      <td>0.446281</td>\n      <td>1</td>\n      <td>1</td>\n      <td>1</td>\n      <td>1</td>\n      <td>1</td>\n      <td>1</td>\n      <td>1</td>\n      <td>1</td>\n      <td>1</td>\n      <td>1</td>\n    </tr>\n    <tr>\n      <th>19</th>\n      <td>0</td>\n      <td>0</td>\n      <td>1</td>\n      <td>0.528926</td>\n      <td>1</td>\n      <td>1</td>\n      <td>1</td>\n      <td>1</td>\n      <td>1</td>\n      <td>1</td>\n      <td>1</td>\n      <td>1</td>\n      <td>1</td>\n      <td>1</td>\n    </tr>\n  </tbody>\n</table>\n</div>"
     },
     "execution_count": 61,
     "metadata": {},
     "output_type": "execute_result"
    }
   ],
   "source": [
    "df.head(20)  "
   ],
   "metadata": {
    "collapsed": false,
    "ExecuteTime": {
     "end_time": "2024-11-02T20:03:49.609111Z",
     "start_time": "2024-11-02T20:03:49.594618Z"
    }
   },
   "id": "ffd6c910ba7f1224",
   "execution_count": 61
  },
  {
   "cell_type": "markdown",
   "source": [
    "### Reorganize the column order"
   ],
   "metadata": {
    "collapsed": false
   },
   "id": "63282df95dab6834"
  },
  {
   "cell_type": "code",
   "outputs": [],
   "source": [
    "df = df[['AGE', 'SEX', 'PNEUMONIA', 'DIABETES', 'COPD', 'ASTHMA',\n",
    "       'INMSUPR', 'HIPERTENSION', 'OTHER_DISEASE', 'CARDIOVASCULAR', 'OBESITY',\n",
    "       'RENAL_CHRONIC', 'TOBACCO', 'DIED']]"
   ],
   "metadata": {
    "collapsed": false,
    "ExecuteTime": {
     "end_time": "2024-11-02T20:03:49.645863Z",
     "start_time": "2024-11-02T20:03:49.610116Z"
    }
   },
   "id": "908a0595493db8d6",
   "execution_count": 62
  },
  {
   "cell_type": "code",
   "outputs": [
    {
     "data": {
      "text/plain": "        AGE  SEX  PNEUMONIA  DIABETES  COPD  ASTHMA  INMSUPR  HIPERTENSION  \\\n0  0.537190    0          0         1     1       1        1             0   \n1  0.595041    1          0         1     1       1        1             0   \n2  0.454545    1          1         0     1       1        1             1   \n3  0.438017    0          1         1     1       1        1             1   \n4  0.561983    1          1         0     1       1        1             0   \n5  0.330579    0          0         1     1       1        1             1   \n6  0.528926    0          1         1     1       1        1             1   \n7  0.528926    0          0         0     1       1        0             0   \n8  0.305785    0          1         0     1       1        1             0   \n9  0.206612    0          1         1     1       1        1             1   \n\n   OTHER_DISEASE  CARDIOVASCULAR  OBESITY  RENAL_CHRONIC  TOBACCO  DIED  \n0              1               1        1              1        1     1  \n1              1               1        0              0        1     1  \n2              1               1        1              1        1     1  \n3              1               1        1              1        1     1  \n4              1               1        1              1        1     1  \n5              1               1        1              1        1     0  \n6              1               1        1              1        1     0  \n7              1               1        1              0        1     0  \n8              1               1        0              1        1     0  \n9              1               1        1              1        1     0  ",
      "text/html": "<div>\n<style scoped>\n    .dataframe tbody tr th:only-of-type {\n        vertical-align: middle;\n    }\n\n    .dataframe tbody tr th {\n        vertical-align: top;\n    }\n\n    .dataframe thead th {\n        text-align: right;\n    }\n</style>\n<table border=\"1\" class=\"dataframe\">\n  <thead>\n    <tr style=\"text-align: right;\">\n      <th></th>\n      <th>AGE</th>\n      <th>SEX</th>\n      <th>PNEUMONIA</th>\n      <th>DIABETES</th>\n      <th>COPD</th>\n      <th>ASTHMA</th>\n      <th>INMSUPR</th>\n      <th>HIPERTENSION</th>\n      <th>OTHER_DISEASE</th>\n      <th>CARDIOVASCULAR</th>\n      <th>OBESITY</th>\n      <th>RENAL_CHRONIC</th>\n      <th>TOBACCO</th>\n      <th>DIED</th>\n    </tr>\n  </thead>\n  <tbody>\n    <tr>\n      <th>0</th>\n      <td>0.537190</td>\n      <td>0</td>\n      <td>0</td>\n      <td>1</td>\n      <td>1</td>\n      <td>1</td>\n      <td>1</td>\n      <td>0</td>\n      <td>1</td>\n      <td>1</td>\n      <td>1</td>\n      <td>1</td>\n      <td>1</td>\n      <td>1</td>\n    </tr>\n    <tr>\n      <th>1</th>\n      <td>0.595041</td>\n      <td>1</td>\n      <td>0</td>\n      <td>1</td>\n      <td>1</td>\n      <td>1</td>\n      <td>1</td>\n      <td>0</td>\n      <td>1</td>\n      <td>1</td>\n      <td>0</td>\n      <td>0</td>\n      <td>1</td>\n      <td>1</td>\n    </tr>\n    <tr>\n      <th>2</th>\n      <td>0.454545</td>\n      <td>1</td>\n      <td>1</td>\n      <td>0</td>\n      <td>1</td>\n      <td>1</td>\n      <td>1</td>\n      <td>1</td>\n      <td>1</td>\n      <td>1</td>\n      <td>1</td>\n      <td>1</td>\n      <td>1</td>\n      <td>1</td>\n    </tr>\n    <tr>\n      <th>3</th>\n      <td>0.438017</td>\n      <td>0</td>\n      <td>1</td>\n      <td>1</td>\n      <td>1</td>\n      <td>1</td>\n      <td>1</td>\n      <td>1</td>\n      <td>1</td>\n      <td>1</td>\n      <td>1</td>\n      <td>1</td>\n      <td>1</td>\n      <td>1</td>\n    </tr>\n    <tr>\n      <th>4</th>\n      <td>0.561983</td>\n      <td>1</td>\n      <td>1</td>\n      <td>0</td>\n      <td>1</td>\n      <td>1</td>\n      <td>1</td>\n      <td>0</td>\n      <td>1</td>\n      <td>1</td>\n      <td>1</td>\n      <td>1</td>\n      <td>1</td>\n      <td>1</td>\n    </tr>\n    <tr>\n      <th>5</th>\n      <td>0.330579</td>\n      <td>0</td>\n      <td>0</td>\n      <td>1</td>\n      <td>1</td>\n      <td>1</td>\n      <td>1</td>\n      <td>1</td>\n      <td>1</td>\n      <td>1</td>\n      <td>1</td>\n      <td>1</td>\n      <td>1</td>\n      <td>0</td>\n    </tr>\n    <tr>\n      <th>6</th>\n      <td>0.528926</td>\n      <td>0</td>\n      <td>1</td>\n      <td>1</td>\n      <td>1</td>\n      <td>1</td>\n      <td>1</td>\n      <td>1</td>\n      <td>1</td>\n      <td>1</td>\n      <td>1</td>\n      <td>1</td>\n      <td>1</td>\n      <td>0</td>\n    </tr>\n    <tr>\n      <th>7</th>\n      <td>0.528926</td>\n      <td>0</td>\n      <td>0</td>\n      <td>0</td>\n      <td>1</td>\n      <td>1</td>\n      <td>0</td>\n      <td>0</td>\n      <td>1</td>\n      <td>1</td>\n      <td>1</td>\n      <td>0</td>\n      <td>1</td>\n      <td>0</td>\n    </tr>\n    <tr>\n      <th>8</th>\n      <td>0.305785</td>\n      <td>0</td>\n      <td>1</td>\n      <td>0</td>\n      <td>1</td>\n      <td>1</td>\n      <td>1</td>\n      <td>0</td>\n      <td>1</td>\n      <td>1</td>\n      <td>0</td>\n      <td>1</td>\n      <td>1</td>\n      <td>0</td>\n    </tr>\n    <tr>\n      <th>9</th>\n      <td>0.206612</td>\n      <td>0</td>\n      <td>1</td>\n      <td>1</td>\n      <td>1</td>\n      <td>1</td>\n      <td>1</td>\n      <td>1</td>\n      <td>1</td>\n      <td>1</td>\n      <td>1</td>\n      <td>1</td>\n      <td>1</td>\n      <td>0</td>\n    </tr>\n  </tbody>\n</table>\n</div>"
     },
     "execution_count": 70,
     "metadata": {},
     "output_type": "execute_result"
    }
   ],
   "source": [
    "df.head(10)"
   ],
   "metadata": {
    "collapsed": false,
    "ExecuteTime": {
     "end_time": "2024-11-02T20:07:57.500651Z",
     "start_time": "2024-11-02T20:07:57.492642Z"
    }
   },
   "id": "c110cceefa517c28",
   "execution_count": 70
  },
  {
   "cell_type": "code",
   "outputs": [],
   "source": [
    "df.to_csv('./data/covid_data_cleaned.csv', index=False)"
   ],
   "metadata": {
    "collapsed": false,
    "ExecuteTime": {
     "end_time": "2024-11-02T20:04:29.184393Z",
     "start_time": "2024-11-02T20:04:27.195224Z"
    }
   },
   "id": "e44e1c7a238a81bd",
   "execution_count": 65
  }
 ],
 "metadata": {
  "kernelspec": {
   "display_name": "Python 3",
   "language": "python",
   "name": "python3"
  },
  "language_info": {
   "codemirror_mode": {
    "name": "ipython",
    "version": 2
   },
   "file_extension": ".py",
   "mimetype": "text/x-python",
   "name": "python",
   "nbconvert_exporter": "python",
   "pygments_lexer": "ipython2",
   "version": "2.7.6"
  }
 },
 "nbformat": 4,
 "nbformat_minor": 5
}
